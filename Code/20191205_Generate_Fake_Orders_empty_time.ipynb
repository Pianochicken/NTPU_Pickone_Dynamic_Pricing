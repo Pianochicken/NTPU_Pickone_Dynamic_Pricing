{
  "nbformat": 4,
  "nbformat_minor": 0,
  "metadata": {
    "colab": {
      "name": "20191205_Generate_Fake_Orders_empty_time.ipynb",
      "provenance": [],
      "collapsed_sections": []
    },
    "kernelspec": {
      "name": "python3",
      "display_name": "Python 3"
    },
    "accelerator": "GPU"
  },
  "cells": [
    {
      "cell_type": "code",
      "metadata": {
        "id": "CKRwu-Mss5om",
        "colab_type": "code",
        "outputId": "1197f219-6441-4cb6-9ea9-7f53c4c06cdd",
        "colab": {
          "base_uri": "https://localhost:8080/",
          "height": 124
        }
      },
      "source": [
        "from google.colab import drive\n",
        "drive.mount('/content/drive')"
      ],
      "execution_count": 2,
      "outputs": [
        {
          "output_type": "stream",
          "text": [
            "Go to this URL in a browser: https://accounts.google.com/o/oauth2/auth?client_id=947318989803-6bn6qk8qdgf4n4g3pfee6491hc0brc4i.apps.googleusercontent.com&redirect_uri=urn%3aietf%3awg%3aoauth%3a2.0%3aoob&response_type=code&scope=email%20https%3a%2f%2fwww.googleapis.com%2fauth%2fdocs.test%20https%3a%2f%2fwww.googleapis.com%2fauth%2fdrive%20https%3a%2f%2fwww.googleapis.com%2fauth%2fdrive.photos.readonly%20https%3a%2f%2fwww.googleapis.com%2fauth%2fpeopleapi.readonly\n",
            "\n",
            "Enter your authorization code:\n",
            "··········\n",
            "Mounted at /content/drive\n"
          ],
          "name": "stdout"
        }
      ]
    },
    {
      "cell_type": "code",
      "metadata": {
        "id": "Nr7o5K1xs-Zm",
        "colab_type": "code",
        "outputId": "cdbe7bf0-bb2d-481f-b314-dcda7486fa2d",
        "colab": {
          "base_uri": "https://localhost:8080/",
          "height": 35
        }
      },
      "source": [
        "cd drive/My\\ Drive/Fake\\ Orders/"
      ],
      "execution_count": 3,
      "outputs": [
        {
          "output_type": "stream",
          "text": [
            "/content/drive/My Drive/Fake Orders\n"
          ],
          "name": "stdout"
        }
      ]
    },
    {
      "cell_type": "code",
      "metadata": {
        "id": "M5PWXbtCtBOt",
        "colab_type": "code",
        "outputId": "91d2ad7d-9f3e-4568-d283-813b8c33e4e8",
        "colab": {
          "base_uri": "https://localhost:8080/",
          "height": 69
        }
      },
      "source": [
        "ls"
      ],
      "execution_count": 4,
      "outputs": [
        {
          "output_type": "stream",
          "text": [
            " 20191203_spaces_fix_locate.csv   spaces_fix.csv      test.gsheet\n",
            " 20191204_test_real_order.csv     spaces_fix.gsheet\n",
            "'Fake Orders.csv'                 test.csv\n"
          ],
          "name": "stdout"
        }
      ]
    },
    {
      "cell_type": "code",
      "metadata": {
        "id": "M4dq6Hj1jvz0",
        "colab_type": "code",
        "colab": {}
      },
      "source": [
        "import csv\n",
        "import datetime\n",
        "\n",
        "### Read the spaces information ###\n",
        "\n",
        "with open('20191203_spaces_fix_locate.csv', newline='') as space_file:\n",
        "\n",
        "  # 讀取 CSV 檔內容，將每一列轉成一個 dictionary\n",
        "  spaces_info = csv.DictReader(space_file)\n",
        "  \n",
        "  # 以迴圈讀取指定欄位\n",
        "  locate_id = []; space_id = []; price = []; size = []; zipcode = [];\n",
        "  open_day = []; close_day = []; open_time = []; close_time = [];\n",
        "  for i in spaces_info:\n",
        "    locate_id.append(i['locate_id'])\n",
        "    space_id.append(i['space_id'])\n",
        "    price.append(i['price'])\n",
        "    size.append(i['size'])\n",
        "    zipcode.append(i['zipcode'])\n",
        "    open_day.append(i['open_day'])\n",
        "    close_day.append(i['close_day'])\n",
        "    open_time.append(i['open_time'])\n",
        "    close_time.append(i['close_time'])\n",
        "  space_file.close()\n",
        "\n",
        "#space_id = list(map(int, space_id))\n",
        "price = list(map(int, price))\n",
        "size = list(map(int, size))\n",
        "zipcode = list(map(int, zipcode))\n",
        "open_day = list(map(int, open_day))\n",
        "close_day = list(map(int, close_day))"
      ],
      "execution_count": 0,
      "outputs": []
    },
    {
      "cell_type": "code",
      "metadata": {
        "id": "PvuEk26aQWjl",
        "colab_type": "code",
        "colab": {}
      },
      "source": [
        "format = '%H:%M'\n",
        "### Write the Fake Orders ###\n",
        "with open('Fake Orders empty time.csv', mode='w', newline='') as f:\n",
        "    FOrders_writer = csv.writer(f)\n",
        "\n",
        "    order_id = 1\n",
        "    #hours = 3     #租用時間\n",
        "    #start = 9     #開始時間\n",
        "    category = 1  #普通方案\n",
        "    #date = 42979  #42979 -> 01/09/2017, 43830 -> 31/12/2019, end_date - start_date + 1 = 852\n",
        "    start_date = \"01/09/2017\" #str\n",
        "    Is_holiday = 0\n",
        "    date = datetime.datetime.strptime(start_date, \"%d/%m/%Y\")\n",
        "    check_day = []\n",
        "\n",
        "\n",
        "    FOrders_writer.writerow(['id', 'space_id', 'size', 'hours', 'price', 'order_price', 'price_per_size', 'date', 'start', 'end', 'weekday', 'Is_holiday', 'zipcode', 'category'])\n",
        "    for i in range(0, len(space_id)):  #space_list\n",
        "      #date = 42979 #每間房間重置日期\n",
        "      date = datetime.datetime.strptime(start_date, \"%d/%m/%Y\")\n",
        "      order_start = datetime.datetime.strptime(open_time[i], format)\n",
        "      order_end = datetime.datetime.strptime(close_time[i], format)\n",
        "      diff = order_end - order_start\n",
        "      \n",
        "      seconds = diff.total_seconds()\n",
        "      hours = seconds // 3600\n",
        "      minutes = (seconds % 3600) // 60\n",
        "      duration = hours + minutes/60\n",
        "\n",
        "      for j in range(0, 852): #date 852\n",
        "        start = open_time[i]  #重置每日的租用時段\n",
        "        check_day = list(range(open_day[i], close_day[i]+1))\n",
        "        if (date.isoweekday() == 6 or date.isoweekday() == 7):\n",
        "          Is_holiday = 1\n",
        "        else:\n",
        "          Is_holiday = 0\n",
        "        if (date.isoweekday() in check_day):\n",
        "          FOrders_writer.writerow([order_id, space_id[i], size[i], duration, price[i], price[i]*duration, price[i]/size[i], date.date().strftime(\"%d/%m/%Y\"), open_time[i], close_time[i], date.isoweekday(), Is_holiday, zipcode[i], category])\n",
        "        order_id += 1\n",
        "        date = date + datetime.timedelta(days=1)"
      ],
      "execution_count": 0,
      "outputs": []
    },
    {
      "cell_type": "markdown",
      "metadata": {
        "id": "XrWPPFaZl_OG",
        "colab_type": "text"
      },
      "source": [
        "## Original Order Format"
      ]
    },
    {
      "cell_type": "code",
      "metadata": {
        "id": "VrgFp6S4l-n8",
        "colab_type": "code",
        "colab": {}
      },
      "source": [
        "id\tspace_id\tsize\thours\tprice\torder_price\tprice_per_size\tstart_time_group\tEnd_time_group\tweekday\tIs_holiday\tcountry_holiday\tzipcode\tcategory\n",
        "9615\t1\t12\t3\t300\t900\t25\t0\t1\t3\t0\t0\t100\t1\n",
        "9617\t1\t12\t4\t300\t1200\t25\t4\t4\t5\t0\t0\t100\t1\n",
        "9618\t1\t12\t4\t300\t1200\t25\t4\t4\t6\t1\t0\t100\t1"
      ],
      "execution_count": 0,
      "outputs": []
    },
    {
      "cell_type": "markdown",
      "metadata": {
        "id": "shElAqTxWv11",
        "colab_type": "text"
      },
      "source": [
        "## Code Test"
      ]
    },
    {
      "cell_type": "code",
      "metadata": {
        "id": "6RWE5BenqYkw",
        "colab_type": "code",
        "colab": {}
      },
      "source": [
        "\n",
        "order_start = datetime.datetime.strptime(open_time[i], format)\n",
        "order_end = datetime.datetime.strptime(close_time[i], format)\n",
        "\n",
        "diff = order_start - order_end\n",
        "#diff = datetime.datetime.strptime(str(diff), '%H:%M:%S')\n",
        "\n",
        "the_time = datetime.time(6,30)\n",
        "value = the_time.hour + the_time.minute/60.0 + \\\n",
        "            the_time.second/3600.0 + the_time.microsecond/3600000000.0\n",
        "\n",
        "print(diff)\n",
        "diff = str(diff)\n",
        "print(type(diff))\n"
      ],
      "execution_count": 0,
      "outputs": []
    },
    {
      "cell_type": "code",
      "metadata": {
        "id": "0-SZApRvLPT9",
        "colab_type": "code",
        "outputId": "a8a0aebf-304b-499e-c9c6-797afdd77524",
        "colab": {
          "base_uri": "https://localhost:8080/",
          "height": 35
        }
      },
      "source": [
        "results = ['1', '2', '3']\n",
        "results = list(map(int, results))\n",
        "print(results)"
      ],
      "execution_count": 0,
      "outputs": [
        {
          "output_type": "stream",
          "text": [
            "[1, 2, 3]\n"
          ],
          "name": "stdout"
        }
      ]
    },
    {
      "cell_type": "code",
      "metadata": {
        "id": "YW4TWnktIIWJ",
        "colab_type": "code",
        "outputId": "41859a9d-1899-48a1-8893-d20cea778d94",
        "colab": {
          "base_uri": "https://localhost:8080/",
          "height": 35
        }
      },
      "source": [
        "import csv\n",
        "with open('test.csv', 'w', newline='') as csvfile:\n",
        "    testwriter = csv.writer(csvfile)\n",
        "    start = 9 \n",
        "    #start = '09:00:00'\n",
        "\n",
        "    print('%02d' % start + ':00:00')\n",
        "    testwriter.writerow(['start', 'end'])\n",
        "    for i in range(0, 4):\n",
        "      testwriter.writerow(['%02d' % start + ':00:00', '%02d' % (start+3) + ':00:00'])\n",
        "      start += 3"
      ],
      "execution_count": 0,
      "outputs": [
        {
          "output_type": "stream",
          "text": [
            "09:00:00\n"
          ],
          "name": "stdout"
        }
      ]
    },
    {
      "cell_type": "code",
      "metadata": {
        "id": "Yx6VlC5D9KP5",
        "colab_type": "code",
        "outputId": "af75143a-ac48-42d2-d838-a2d88a447404",
        "colab": {
          "base_uri": "https://localhost:8080/",
          "height": 69
        }
      },
      "source": [
        "import time\n",
        "#named_tuple = time.localtime() # get struct_time\n",
        "time_string = \"1 September, 2017\"\n",
        "result = time.strptime(time_string, \"%d %B, %Y\")\n",
        "\n",
        "test = result\n",
        "time_string = time.strftime(\"%d/%m/%Y\", test)\n",
        "print(time_string)\n",
        "print(type(test))\n",
        "print(test[2]+1)\n",
        "\n"
      ],
      "execution_count": 0,
      "outputs": [
        {
          "output_type": "stream",
          "text": [
            "01/09/2017\n",
            "<class 'time.struct_time'>\n",
            "2\n"
          ],
          "name": "stdout"
        }
      ]
    },
    {
      "cell_type": "code",
      "metadata": {
        "id": "utH1l3VpGteS",
        "colab_type": "code",
        "outputId": "a1b06556-529b-4adb-db67-8f6c423dfb1f",
        "colab": {
          "base_uri": "https://localhost:8080/",
          "height": 52
        }
      },
      "source": [
        "start = '09:00:00'\n",
        "aa = 9\n",
        "\n",
        "print('%02d' % aa)\n",
        "\n",
        "aa += 3\n",
        "\n",
        "print('%02d' % aa + ':00:00')\n"
      ],
      "execution_count": 0,
      "outputs": [
        {
          "output_type": "stream",
          "text": [
            "09\n",
            "12:00:00\n"
          ],
          "name": "stdout"
        }
      ]
    },
    {
      "cell_type": "code",
      "metadata": {
        "id": "Bu4Cy6U0uCEN",
        "colab_type": "code",
        "colab": {}
      },
      "source": [
        "space_id = [1,3,4,5,6,7,8,9,10,11,12,13,14,15,16,17,18,19,20,21,22,23,24,25,31,41,51,62,63,64,65,66,67,68,69,70,71,72,73,74,75,76,77,78,79,80,81,82,83,84,85,86,87,88,89,90,91,92,93,94,95,96,97,98,99,100,101,102,103,104,105,106,107,108,109,110,111,112,113,114,115,116,117,118,119,121,122,123,124,125,126,127,128,129,130,131,132,133,134,135,136,137,138,139,140,141,142,143,144,145,146,147,148,149,150,151,152,153,154,155,156,157,158,159,160,161,162,163,164,165,166,167,168,169,170,171,172,173,174,175,176,177,178,179,180,181,182,183,184,185,186,187]\n",
        "\n",
        "p =[1, 4, 8, 2]\n",
        "h = 3\n",
        "o_p = h * p\n",
        "print(type(o_p))\n",
        "\n",
        "\n",
        "for i in space_id:\n",
        "  print(i, type(i))\n",
        "\n"
      ],
      "execution_count": 0,
      "outputs": []
    }
  ]
}