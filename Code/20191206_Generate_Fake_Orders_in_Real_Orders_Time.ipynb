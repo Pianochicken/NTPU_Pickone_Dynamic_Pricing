{
  "nbformat": 4,
  "nbformat_minor": 0,
  "metadata": {
    "colab": {
      "name": "20191206_Generate_Fake_Orders_in_Real_Orders_Time.ipynb",
      "provenance": [],
      "collapsed_sections": []
    },
    "kernelspec": {
      "name": "python3",
      "display_name": "Python 3"
    },
    "accelerator": "GPU"
  },
  "cells": [
    {
      "cell_type": "code",
      "metadata": {
        "id": "CKRwu-Mss5om",
        "colab_type": "code",
        "outputId": "17b9ccf4-735f-4a77-bc8f-1d45d845fd93",
        "colab": {
          "base_uri": "https://localhost:8080/",
          "height": 124
        }
      },
      "source": [
        "from google.colab import drive\n",
        "drive.mount('/content/drive')"
      ],
      "execution_count": 0,
      "outputs": [
        {
          "output_type": "stream",
          "text": [
            "Go to this URL in a browser: https://accounts.google.com/o/oauth2/auth?client_id=947318989803-6bn6qk8qdgf4n4g3pfee6491hc0brc4i.apps.googleusercontent.com&redirect_uri=urn%3aietf%3awg%3aoauth%3a2.0%3aoob&response_type=code&scope=email%20https%3a%2f%2fwww.googleapis.com%2fauth%2fdocs.test%20https%3a%2f%2fwww.googleapis.com%2fauth%2fdrive%20https%3a%2f%2fwww.googleapis.com%2fauth%2fdrive.photos.readonly%20https%3a%2f%2fwww.googleapis.com%2fauth%2fpeopleapi.readonly\n",
            "\n",
            "Enter your authorization code:\n",
            "··········\n",
            "Mounted at /content/drive\n"
          ],
          "name": "stdout"
        }
      ]
    },
    {
      "cell_type": "code",
      "metadata": {
        "id": "Nr7o5K1xs-Zm",
        "colab_type": "code",
        "outputId": "8534941a-a221-466a-bbf3-1d1422ebd92e",
        "colab": {
          "base_uri": "https://localhost:8080/",
          "height": 35
        }
      },
      "source": [
        "cd drive/My\\ Drive/Fake\\ Orders/"
      ],
      "execution_count": 0,
      "outputs": [
        {
          "output_type": "stream",
          "text": [
            "/content/drive/My Drive/Fake Orders\n"
          ],
          "name": "stdout"
        }
      ]
    },
    {
      "cell_type": "code",
      "metadata": {
        "id": "M5PWXbtCtBOt",
        "colab_type": "code",
        "outputId": "35d8bb1b-c2f8-4750-dea9-1be2d4d63610",
        "colab": {
          "base_uri": "https://localhost:8080/",
          "height": 52
        }
      },
      "source": [
        "ls"
      ],
      "execution_count": 0,
      "outputs": [
        {
          "output_type": "stream",
          "text": [
            " 20191206_spaces_info.csv       'Fake Orders empty time.csv'\n",
            "'201912.06 space_time_fix.csv'\n"
          ],
          "name": "stdout"
        }
      ]
    },
    {
      "cell_type": "markdown",
      "metadata": {
        "id": "obQXfvscDszt",
        "colab_type": "text"
      },
      "source": [
        "## Read the Orders & Spaces inforomation"
      ]
    },
    {
      "cell_type": "code",
      "metadata": {
        "id": "M4dq6Hj1jvz0",
        "colab_type": "code",
        "colab": {}
      },
      "source": [
        "import csv\n",
        "import datetime\n",
        "\n",
        "##### Read the spaces information #####\n",
        "\n",
        "with open('20191207_spaces_info.csv', newline='', encoding='big5') as space_file:\n",
        "\n",
        "  # 讀取 CSV 檔內容，將每一列轉成一個 dictionary\n",
        "  spaces_info = csv.DictReader(space_file)\n",
        "  \n",
        "  # 以迴圈讀取指定欄位\n",
        "  locate_id = []; space_id = []; price = []; size = []; zipcode = [];\n",
        "  open_day = []; close_day = []; open_time = []; close_time = []; creat_time = []; mrt = [];\n",
        "  for i in spaces_info:\n",
        "    locate_id.append(i['locate_id'])\n",
        "    space_id.append(i['space_id'])\n",
        "    price.append(i['price'])\n",
        "    size.append(i['size'])\n",
        "    zipcode.append(i['zipcode'])\n",
        "    open_day.append(i['open_day'])\n",
        "    close_day.append(i['close_day'])\n",
        "    open_time.append(i['open_time'])\n",
        "    close_time.append(i['close_time'])\n",
        "    creat_time.append(i['creat_time'])\n",
        "    mrt.append(i['mrt'])\n",
        "  space_file.close()\n",
        "\n",
        "#space_id = list(map(int, space_id))\n",
        "price = list(map(int, price))\n",
        "size = list(map(int, size))\n",
        "zipcode = list(map(int, zipcode))\n",
        "open_day = list(map(int, open_day))\n",
        "close_day = list(map(int, close_day))\n",
        "\n",
        "\n",
        "##### Read the real Orders information #####\n",
        "\n",
        "with open('20191206_test_real_order.csv', newline='', encoding='big5') as test_file:\n",
        "\n",
        "  # 讀取 CSV 檔內容，將每一列轉成一個 dictionary\n",
        "  test_info = csv.DictReader(test_file)\n",
        "  \n",
        "  # 以迴圈讀取指定欄位\n",
        "  r_space_id = []; r_date = []; r_start = []; r_end = [];\n",
        "  for i in test_info:\n",
        "    r_space_id.append(i['space_id'])\n",
        "    r_date.append(i['date'])\n",
        "    r_start.append(i['start'])\n",
        "    r_end.append(i['end'])\n",
        "  test_file.close()\n",
        "\n",
        "r_space_id = list(map(int, r_space_id))\n",
        "for i in range(0, len(r_date)):\n",
        "  r_date[i] = datetime.datetime.strptime(r_date[i], \"%d/%m/%Y\")\n",
        "\n"
      ],
      "execution_count": 0,
      "outputs": []
    },
    {
      "cell_type": "markdown",
      "metadata": {
        "id": "Dmwxh_UW-B6h",
        "colab_type": "text"
      },
      "source": [
        "## Generate Fake Orders"
      ]
    },
    {
      "cell_type": "code",
      "metadata": {
        "id": "abtKREJ6-AKE",
        "colab_type": "code",
        "colab": {}
      },
      "source": [
        "format = '%H:%M'\n",
        "### Write the Fake Orders ###\n",
        "with open('Fake Orders empty time.csv', mode='w', newline='') as f:\n",
        "    FOrders_writer = csv.writer(f)\n",
        "\n",
        "    order_id = 1    #訂單編號\n",
        "    category = 1    #普通方案\n",
        "    Is_holiday = 0  #是否為假日\n",
        "\n",
        "    #start_date = \"08/02/2017\"  #str %d/%m/%Y\n",
        "    end_date = \"18/11/2019\"    # 1181\n",
        "    \n",
        "    # date = datetime.datetime.strptime(start_date, \"%d/%m/%Y\")\n",
        "    end_date = datetime.datetime.strptime(end_date , \"%d/%m/%Y\")\n",
        "    # len_of_date = (end_date - date).days + 1\n",
        "\n",
        "    check_day = []\n",
        "\n",
        "    FOrders_writer.writerow(['id', 'locate_id', 'space_id', 'size', 'hours', 'price', 'order_price', 'price_per_size', 'date', 'start', 'end', 'weekday', 'Is_holiday', 'zipcode', 'category'])\n",
        "    for i in range(0, len(space_id)):  #space_list\n",
        "\n",
        "      ##### 計算space的創造時間 ######\n",
        "      space_creat = datetime.datetime.strptime(creat_time[i], '%d%b%y:%H:%M:%S') #read info like '08FEB17:21:43:04'\n",
        "      space_creat_date = datetime.datetime.strptime(space_creat.strftime(\"%d/%m/%Y\") , \"%d/%m/%Y\") #空間建立時間\n",
        "      len_of_date = (end_date - space_creat_date).days + 1 #int 計算兩個日期間距\n",
        "      \n",
        "      ##### 設定房間起始日期 #####\n",
        "      date = datetime.datetime.strptime(space_creat.strftime(\"%d/%m/%Y\"), \"%d/%m/%Y\")\n",
        "      order_start = datetime.datetime.strptime(open_time[i], format) #訂單開始時間\n",
        "      order_end = datetime.datetime.strptime(close_time[i], format)  #訂單結束時間\n",
        "\n",
        "\n",
        "      ##### 計算訂單租用時間 #####\n",
        "      diff = order_end - order_start \n",
        "      seconds = diff.total_seconds()\n",
        "      hours = seconds // 3600\n",
        "      minutes = (seconds % 3600) // 60\n",
        "      duration = hours + minutes/60  #訂單租用時間\n",
        "\n",
        "      ##### 開始產生訂單 #####\n",
        "      for j in range(0, len_of_date): #根據空間的建立時間，再跑到 31/12/2019\n",
        "        start = open_time[i]  #重置每日的租用時段\n",
        "        check_day = list(range(open_day[i], close_day[i]+1))\n",
        "        \n",
        "        Is_holiday = 1 if(date.isoweekday() == 6 or date.isoweekday() == 7) else 0\n",
        "\n",
        "        if (date.isoweekday() in check_day):\n",
        "          FOrders_writer.writerow([order_id, locate_id[i], space_id[i], size[i], duration, price[i], price[i]*duration, price[i]/size[i], date.date().strftime(\"%d/%m/%Y\"), open_time[i], close_time[i], date.isoweekday(), Is_holiday, zipcode[i], category])\n",
        "        order_id += 1\n",
        "        date = date + datetime.timedelta(days=1)\n",
        "\n",
        "\n",
        "\n",
        "\n",
        "        for k in range(0, len(r_space_id)):\n",
        "          if (space_id[i] == r_space_id[k]):\n",
        "            if(date == r_date[k]):\n",
        "              open_time[i]\n",
        "\n",
        "\n"
      ],
      "execution_count": 0,
      "outputs": []
    },
    {
      "cell_type": "markdown",
      "metadata": {
        "id": "XrWPPFaZl_OG",
        "colab_type": "text"
      },
      "source": [
        "## Original Order Format"
      ]
    },
    {
      "cell_type": "code",
      "metadata": {
        "id": "VrgFp6S4l-n8",
        "colab_type": "code",
        "colab": {}
      },
      "source": [
        "id\tspace_id\tsize\thours\tprice\torder_price\tprice_per_size\tstart_time_group\tEnd_time_group\tweekday\tIs_holiday\tcountry_holiday\tzipcode\tcategory\n",
        "9615\t1\t12\t3\t300\t900\t25\t0\t1\t3\t0\t0\t100\t1\n",
        "9617\t1\t12\t4\t300\t1200\t25\t4\t4\t5\t0\t0\t100\t1\n",
        "9618\t1\t12\t4\t300\t1200\t25\t4\t4\t6\t1\t0\t100\t1"
      ],
      "execution_count": 0,
      "outputs": []
    },
    {
      "cell_type": "markdown",
      "metadata": {
        "id": "shElAqTxWv11",
        "colab_type": "text"
      },
      "source": [
        "## Code Test"
      ]
    },
    {
      "cell_type": "code",
      "metadata": {
        "id": "Hrw0BZvJJEu9",
        "colab_type": "code",
        "outputId": "19344734-dce3-4805-9af7-0cc9256de083",
        "colab": {
          "base_uri": "https://localhost:8080/",
          "height": 52
        }
      },
      "source": [
        "fake_start_date = \"01/09/2017\" #str\n",
        "real = \"01/09/2017\" #str\n",
        "\n",
        "date = datetime.datetime.strptime(fake_start_date, \"%d/%m/%Y\")\n",
        "next_date = date + datetime.timedelta(days=1)\n",
        "\n",
        "real_date = datetime.datetime.strptime(real, \"%d/%m/%Y\")\n",
        "\n",
        "print(date == real_date)\n",
        "print (next_date)"
      ],
      "execution_count": 0,
      "outputs": [
        {
          "output_type": "stream",
          "text": [
            "True\n",
            "2017-09-02 00:00:00\n"
          ],
          "name": "stdout"
        }
      ]
    },
    {
      "cell_type": "code",
      "metadata": {
        "id": "3lmnhh5zp6Yf",
        "colab_type": "code",
        "outputId": "0e738ca4-6e6b-4258-e77c-6c8c72224195",
        "colab": {
          "base_uri": "https://localhost:8080/",
          "height": 433
        }
      },
      "source": [
        "import csv\n",
        "import datetime\n",
        "with open('20191203_spaces_fix_locate.csv', newline='') as space_file:\n",
        "\n",
        "  # 讀取 CSV 檔內容，將每一列轉成一個 dictionary\n",
        "  spaces_info = csv.DictReader(space_file)\n",
        "  \n",
        "  # 以迴圈讀取指定欄位\n",
        "  locate_id = []; space_id = []; price = []; size = []; zipcode = [];\n",
        "  open_day = []; close_day = []; open_time = []; close_time = [];\n",
        "  for i in spaces_info:\n",
        "    locate_id.append(i['locate_id'])\n",
        "    space_id.append(i['space_id'])\n",
        "    price.append(i['price'])\n",
        "    size.append(i['size'])\n",
        "    zipcode.append(i['zipcode'])\n",
        "    open_day.append(i['open_day'])\n",
        "    close_day.append(i['close_day'])\n",
        "    open_time.append(i['open_time'])\n",
        "    close_time.append(i['close_time'])\n",
        "  space_file.close()\n",
        "\n",
        "#space_id = list(map(int, space_id))\n",
        "price = list(map(int, price))\n",
        "size = list(map(int, size))\n",
        "zipcode = list(map(int, zipcode))\n",
        "'''\n",
        "print(open_time)\n",
        "print(type(open_time))\n",
        "print(open_time[1])\n",
        "print(type(open_time[1]))\n",
        "'''\n",
        "\n",
        "\n",
        "\n",
        "with open('20191204_test_real_order.csv', newline='', encoding='big5') as test_file:\n",
        "\n",
        "  # 讀取 CSV 檔內容，將每一列轉成一個 dictionary\n",
        "  test_info = csv.DictReader(test_file)\n",
        "  \n",
        "  # 以迴圈讀取指定欄位\n",
        "  r_space_id = []; r_date = []; r_start = []; r_end = [];\n",
        "  for i in test_info:\n",
        "    r_space_id.append(i['space_id'])\n",
        "    r_date.append(i['date'])\n",
        "    r_start.append(i['start'])\n",
        "    r_end.append(i['end'])\n",
        "  test_file.close()\n",
        "\n",
        "r_space_id = list(map(int, r_space_id))\n",
        "\n",
        "#print(open_time) #list\n",
        "print(open_time[1]) #str\n",
        "print(close_time[1]) #str\n",
        "\n",
        "#print(r_date) #list\n",
        "print(r_date[1]) #str\n",
        "\n",
        "test = datetime.datetime.strptime(r_date[1], \"%d/%m/%y\")\n",
        "print(test)\n",
        "\n",
        "'''\n",
        "\n",
        "format = '%H:%M'\n",
        "start_Time = datetime.datetime.strptime(open_time[1], format)\n",
        "end_Time = datetime.datetime.strptime(close_time[1], format)\n",
        "\n",
        "diff = end_Time - start_Time\n",
        "#diff = datetime.datetime.strptime(str(diff), '%H:%M:%S')\n",
        "\n",
        "print(diff)\n",
        "diff = str(diff)\n",
        "print(type(diff))\n",
        "\n",
        "'''\n",
        "\n"
      ],
      "execution_count": 0,
      "outputs": [
        {
          "output_type": "stream",
          "text": [
            "08:00\n",
            "22:00\n",
            "26/08/2016\n"
          ],
          "name": "stdout"
        },
        {
          "output_type": "error",
          "ename": "ValueError",
          "evalue": "ignored",
          "traceback": [
            "\u001b[0;31m---------------------------------------------------------------------------\u001b[0m",
            "\u001b[0;31mValueError\u001b[0m                                Traceback (most recent call last)",
            "\u001b[0;32m<ipython-input-19-3619590593cf>\u001b[0m in \u001b[0;36m<module>\u001b[0;34m()\u001b[0m\n\u001b[1;32m     57\u001b[0m \u001b[0mprint\u001b[0m\u001b[0;34m(\u001b[0m\u001b[0mr_date\u001b[0m\u001b[0;34m[\u001b[0m\u001b[0;36m1\u001b[0m\u001b[0;34m]\u001b[0m\u001b[0;34m)\u001b[0m \u001b[0;31m#str\u001b[0m\u001b[0;34m\u001b[0m\u001b[0;34m\u001b[0m\u001b[0m\n\u001b[1;32m     58\u001b[0m \u001b[0;34m\u001b[0m\u001b[0m\n\u001b[0;32m---> 59\u001b[0;31m \u001b[0mtest\u001b[0m \u001b[0;34m=\u001b[0m \u001b[0mdatetime\u001b[0m\u001b[0;34m.\u001b[0m\u001b[0mdatetime\u001b[0m\u001b[0;34m.\u001b[0m\u001b[0mstrptime\u001b[0m\u001b[0;34m(\u001b[0m\u001b[0mr_date\u001b[0m\u001b[0;34m[\u001b[0m\u001b[0;36m1\u001b[0m\u001b[0;34m]\u001b[0m\u001b[0;34m,\u001b[0m \u001b[0;34m\"%dd/%mm/%yyyy\"\u001b[0m\u001b[0;34m)\u001b[0m\u001b[0;34m\u001b[0m\u001b[0;34m\u001b[0m\u001b[0m\n\u001b[0m\u001b[1;32m     60\u001b[0m \u001b[0mprint\u001b[0m\u001b[0;34m(\u001b[0m\u001b[0mtest\u001b[0m\u001b[0;34m)\u001b[0m\u001b[0;34m\u001b[0m\u001b[0;34m\u001b[0m\u001b[0m\n\u001b[1;32m     61\u001b[0m \u001b[0;34m\u001b[0m\u001b[0m\n",
            "\u001b[0;32m/usr/lib/python3.6/_strptime.py\u001b[0m in \u001b[0;36m_strptime_datetime\u001b[0;34m(cls, data_string, format)\u001b[0m\n\u001b[1;32m    563\u001b[0m     \"\"\"Return a class cls instance based on the input string and the\n\u001b[1;32m    564\u001b[0m     format string.\"\"\"\n\u001b[0;32m--> 565\u001b[0;31m     \u001b[0mtt\u001b[0m\u001b[0;34m,\u001b[0m \u001b[0mfraction\u001b[0m \u001b[0;34m=\u001b[0m \u001b[0m_strptime\u001b[0m\u001b[0;34m(\u001b[0m\u001b[0mdata_string\u001b[0m\u001b[0;34m,\u001b[0m \u001b[0mformat\u001b[0m\u001b[0;34m)\u001b[0m\u001b[0;34m\u001b[0m\u001b[0;34m\u001b[0m\u001b[0m\n\u001b[0m\u001b[1;32m    566\u001b[0m     \u001b[0mtzname\u001b[0m\u001b[0;34m,\u001b[0m \u001b[0mgmtoff\u001b[0m \u001b[0;34m=\u001b[0m \u001b[0mtt\u001b[0m\u001b[0;34m[\u001b[0m\u001b[0;34m-\u001b[0m\u001b[0;36m2\u001b[0m\u001b[0;34m:\u001b[0m\u001b[0;34m]\u001b[0m\u001b[0;34m\u001b[0m\u001b[0;34m\u001b[0m\u001b[0m\n\u001b[1;32m    567\u001b[0m     \u001b[0margs\u001b[0m \u001b[0;34m=\u001b[0m \u001b[0mtt\u001b[0m\u001b[0;34m[\u001b[0m\u001b[0;34m:\u001b[0m\u001b[0;36m6\u001b[0m\u001b[0;34m]\u001b[0m \u001b[0;34m+\u001b[0m \u001b[0;34m(\u001b[0m\u001b[0mfraction\u001b[0m\u001b[0;34m,\u001b[0m\u001b[0;34m)\u001b[0m\u001b[0;34m\u001b[0m\u001b[0;34m\u001b[0m\u001b[0m\n",
            "\u001b[0;32m/usr/lib/python3.6/_strptime.py\u001b[0m in \u001b[0;36m_strptime\u001b[0;34m(data_string, format)\u001b[0m\n\u001b[1;32m    360\u001b[0m     \u001b[0;32mif\u001b[0m \u001b[0;32mnot\u001b[0m \u001b[0mfound\u001b[0m\u001b[0;34m:\u001b[0m\u001b[0;34m\u001b[0m\u001b[0;34m\u001b[0m\u001b[0m\n\u001b[1;32m    361\u001b[0m         raise ValueError(\"time data %r does not match format %r\" %\n\u001b[0;32m--> 362\u001b[0;31m                          (data_string, format))\n\u001b[0m\u001b[1;32m    363\u001b[0m     \u001b[0;32mif\u001b[0m \u001b[0mlen\u001b[0m\u001b[0;34m(\u001b[0m\u001b[0mdata_string\u001b[0m\u001b[0;34m)\u001b[0m \u001b[0;34m!=\u001b[0m \u001b[0mfound\u001b[0m\u001b[0;34m.\u001b[0m\u001b[0mend\u001b[0m\u001b[0;34m(\u001b[0m\u001b[0;34m)\u001b[0m\u001b[0;34m:\u001b[0m\u001b[0;34m\u001b[0m\u001b[0;34m\u001b[0m\u001b[0m\n\u001b[1;32m    364\u001b[0m         raise ValueError(\"unconverted data remains: %s\" %\n",
            "\u001b[0;31mValueError\u001b[0m: time data '26/08/2016' does not match format '%dd/%mm/%yyyy'"
          ]
        }
      ]
    },
    {
      "cell_type": "code",
      "metadata": {
        "id": "0-SZApRvLPT9",
        "colab_type": "code",
        "outputId": "a8a0aebf-304b-499e-c9c6-797afdd77524",
        "colab": {
          "base_uri": "https://localhost:8080/",
          "height": 35
        }
      },
      "source": [
        "results = ['1', '2', '3']\n",
        "results = list(map(int, results))\n",
        "print(results)"
      ],
      "execution_count": 0,
      "outputs": [
        {
          "output_type": "stream",
          "text": [
            "[1, 2, 3]\n"
          ],
          "name": "stdout"
        }
      ]
    },
    {
      "cell_type": "code",
      "metadata": {
        "id": "YW4TWnktIIWJ",
        "colab_type": "code",
        "outputId": "41859a9d-1899-48a1-8893-d20cea778d94",
        "colab": {
          "base_uri": "https://localhost:8080/",
          "height": 35
        }
      },
      "source": [
        "import csv\n",
        "with open('test.csv', 'w', newline='') as csvfile:\n",
        "    testwriter = csv.writer(csvfile)\n",
        "    start = 9 \n",
        "    #start = '09:00:00'\n",
        "\n",
        "    print('%02d' % start + ':00:00')\n",
        "    testwriter.writerow(['start', 'end'])\n",
        "    for i in range(0, 4):\n",
        "      testwriter.writerow(['%02d' % start + ':00:00', '%02d' % (start+3) + ':00:00'])\n",
        "      start += 3"
      ],
      "execution_count": 0,
      "outputs": [
        {
          "output_type": "stream",
          "text": [
            "09:00:00\n"
          ],
          "name": "stdout"
        }
      ]
    },
    {
      "cell_type": "code",
      "metadata": {
        "id": "Yx6VlC5D9KP5",
        "colab_type": "code",
        "outputId": "af75143a-ac48-42d2-d838-a2d88a447404",
        "colab": {
          "base_uri": "https://localhost:8080/",
          "height": 69
        }
      },
      "source": [
        "import time\n",
        "#named_tuple = time.localtime() # get struct_time\n",
        "time_string = \"1 September, 2017\"\n",
        "result = time.strptime(time_string, \"%d %B, %Y\")\n",
        "\n",
        "test = result\n",
        "time_string = time.strftime(\"%d/%m/%Y\", test)\n",
        "print(time_string)\n",
        "print(type(test))\n",
        "print(test[2]+1)\n",
        "\n"
      ],
      "execution_count": 0,
      "outputs": [
        {
          "output_type": "stream",
          "text": [
            "01/09/2017\n",
            "<class 'time.struct_time'>\n",
            "2\n"
          ],
          "name": "stdout"
        }
      ]
    },
    {
      "cell_type": "code",
      "metadata": {
        "id": "utH1l3VpGteS",
        "colab_type": "code",
        "outputId": "a1b06556-529b-4adb-db67-8f6c423dfb1f",
        "colab": {
          "base_uri": "https://localhost:8080/",
          "height": 52
        }
      },
      "source": [
        "start = '09:00:00'\n",
        "aa = 9\n",
        "\n",
        "print('%02d' % aa)\n",
        "\n",
        "aa += 3\n",
        "\n",
        "print('%02d' % aa + ':00:00')\n"
      ],
      "execution_count": 0,
      "outputs": [
        {
          "output_type": "stream",
          "text": [
            "09\n",
            "12:00:00\n"
          ],
          "name": "stdout"
        }
      ]
    },
    {
      "cell_type": "code",
      "metadata": {
        "id": "Bu4Cy6U0uCEN",
        "colab_type": "code",
        "colab": {}
      },
      "source": [
        "space_id = [1,3,4,5,6,7,8,9,10,11,12,13,14,15,16,17,18,19,20,21,22,23,24,25,31,41,51,62,63,64,65,66,67,68,69,70,71,72,73,74,75,76,77,78,79,80,81,82,83,84,85,86,87,88,89,90,91,92,93,94,95,96,97,98,99,100,101,102,103,104,105,106,107,108,109,110,111,112,113,114,115,116,117,118,119,121,122,123,124,125,126,127,128,129,130,131,132,133,134,135,136,137,138,139,140,141,142,143,144,145,146,147,148,149,150,151,152,153,154,155,156,157,158,159,160,161,162,163,164,165,166,167,168,169,170,171,172,173,174,175,176,177,178,179,180,181,182,183,184,185,186,187]\n",
        "\n",
        "p =[1, 4, 8, 2]\n",
        "h = 3\n",
        "o_p = h * p\n",
        "print(type(o_p))\n",
        "\n",
        "\n",
        "for i in space_id:\n",
        "  print(i, type(i))\n",
        "\n"
      ],
      "execution_count": 0,
      "outputs": []
    }
  ]
}