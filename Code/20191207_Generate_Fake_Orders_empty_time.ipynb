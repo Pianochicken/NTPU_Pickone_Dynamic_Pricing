{
  "nbformat": 4,
  "nbformat_minor": 0,
  "metadata": {
    "colab": {
      "name": "20191207_Generate_Fake_Orders_empty_time.ipynb",
      "provenance": [],
      "collapsed_sections": []
    },
    "kernelspec": {
      "name": "python3",
      "display_name": "Python 3"
    },
    "accelerator": "GPU"
  },
  "cells": [
    {
      "cell_type": "code",
      "metadata": {
        "id": "CKRwu-Mss5om",
        "colab_type": "code",
        "outputId": "c0e2d8b8-c367-4c35-b47f-556ae4ada83c",
        "colab": {
          "base_uri": "https://localhost:8080/",
          "height": 124
        }
      },
      "source": [
        "from google.colab import drive\n",
        "drive.mount('/content/drive')"
      ],
      "execution_count": 0,
      "outputs": [
        {
          "output_type": "stream",
          "text": [
            "Go to this URL in a browser: https://accounts.google.com/o/oauth2/auth?client_id=947318989803-6bn6qk8qdgf4n4g3pfee6491hc0brc4i.apps.googleusercontent.com&redirect_uri=urn%3aietf%3awg%3aoauth%3a2.0%3aoob&response_type=code&scope=email%20https%3a%2f%2fwww.googleapis.com%2fauth%2fdocs.test%20https%3a%2f%2fwww.googleapis.com%2fauth%2fdrive%20https%3a%2f%2fwww.googleapis.com%2fauth%2fdrive.photos.readonly%20https%3a%2f%2fwww.googleapis.com%2fauth%2fpeopleapi.readonly\n",
            "\n",
            "Enter your authorization code:\n",
            "··········\n",
            "Mounted at /content/drive\n"
          ],
          "name": "stdout"
        }
      ]
    },
    {
      "cell_type": "code",
      "metadata": {
        "id": "Nr7o5K1xs-Zm",
        "colab_type": "code",
        "outputId": "6b658a0b-b1ab-49bf-9353-4eeccb152cc2",
        "colab": {
          "base_uri": "https://localhost:8080/",
          "height": 52
        }
      },
      "source": [
        "cd drive/My\\ Drive/Fake\\ Orders/"
      ],
      "execution_count": 34,
      "outputs": [
        {
          "output_type": "stream",
          "text": [
            "[Errno 2] No such file or directory: 'drive/My Drive/Fake Orders/'\n",
            "/content/drive/My Drive/Fake Orders\n"
          ],
          "name": "stdout"
        }
      ]
    },
    {
      "cell_type": "code",
      "metadata": {
        "id": "M5PWXbtCtBOt",
        "colab_type": "code",
        "outputId": "c356be0f-8b4f-443e-c166-b19b42f8b4a7",
        "colab": {
          "base_uri": "https://localhost:8080/",
          "height": 52
        }
      },
      "source": [
        "ls"
      ],
      "execution_count": 35,
      "outputs": [
        {
          "output_type": "stream",
          "text": [
            " 20191206_spaces_info.csv        20191207_spaces_info.csv\n",
            "'201912.06 space_time_fix.csv'  'Fake Orders empty time.csv'\n"
          ],
          "name": "stdout"
        }
      ]
    },
    {
      "cell_type": "markdown",
      "metadata": {
        "id": "_WRJVs4qmMzQ",
        "colab_type": "text"
      },
      "source": [
        "## Read the Spaces inforomation"
      ]
    },
    {
      "cell_type": "code",
      "metadata": {
        "id": "M4dq6Hj1jvz0",
        "colab_type": "code",
        "colab": {}
      },
      "source": [
        "import csv\n",
        "import datetime\n",
        "\n",
        "##### Read the spaces information #####\n",
        "\n",
        "with open('20191207_spaces_info.csv', newline='', encoding='big5') as space_file:\n",
        "\n",
        "  # 讀取 CSV 檔內容，將每一列轉成一個 dictionary\n",
        "  spaces_info = csv.DictReader(space_file)\n",
        "  \n",
        "  # 以迴圈讀取指定欄位\n",
        "  locate_id = []; space_id = []; price = []; size = []; zipcode = [];\n",
        "  open_day = []; close_day = []; open_time = []; close_time = []; creat_time = []; mrt = [];\n",
        "  for i in spaces_info:\n",
        "    locate_id.append(i['locate_id'])\n",
        "    space_id.append(i['space_id'])\n",
        "    price.append(i['price'])\n",
        "    size.append(i['size'])\n",
        "    zipcode.append(i['zipcode'])\n",
        "    open_day.append(i['open_day'])\n",
        "    close_day.append(i['close_day'])\n",
        "    open_time.append(i['open_time'])\n",
        "    close_time.append(i['close_time'])\n",
        "    creat_time.append(i['creat_time'])\n",
        "    mrt.append(i['mrt'])\n",
        "  space_file.close()\n",
        "\n",
        "#space_id = list(map(int, space_id))\n",
        "price = list(map(int, price))\n",
        "size = list(map(int, size))\n",
        "zipcode = list(map(int, zipcode))\n",
        "open_day = list(map(int, open_day))\n",
        "close_day = list(map(int, close_day))"
      ],
      "execution_count": 0,
      "outputs": []
    },
    {
      "cell_type": "markdown",
      "metadata": {
        "id": "irvAUDcImSm9",
        "colab_type": "text"
      },
      "source": [
        "## Generate Fake Orders"
      ]
    },
    {
      "cell_type": "code",
      "metadata": {
        "id": "PvuEk26aQWjl",
        "colab_type": "code",
        "colab": {}
      },
      "source": [
        "format = '%H:%M'\n",
        "##### Generate the Fake Orders #####\n",
        "with open('Fake Orders empty time.csv', mode='w', newline='', encoding='big5') as f:\n",
        "    FOrders_writer = csv.writer(f)\n",
        "\n",
        "    order_id = 1    #訂單編號\n",
        "    category = 1    #普通方案\n",
        "    Is_holiday = 0  #是否為假日\n",
        "\n",
        "    #start_date = \"08/02/2017\"  #str %d/%m/%Y\n",
        "    end_date = \"18/11/2019\"    # 1181\n",
        "    \n",
        "    # date = datetime.datetime.strptime(start_date, \"%d/%m/%Y\")\n",
        "    end_date = datetime.datetime.strptime(end_date , \"%d/%m/%Y\")\n",
        "    # len_of_date = (end_date - date).days + 1\n",
        "\n",
        "    check_day = []\n",
        "    start_time_group = 0\n",
        "    end_time_group = 0\n",
        "    morning = datetime.datetime.strptime(\"12:00\", format)     # 1: 06:00 ~ 12:00\n",
        "    noon = datetime.datetime.strptime(\"14:00\", format)        # 2: 12:00 ~ 14:00\n",
        "    afternoon = datetime.datetime.strptime(\"18:00\", format)   # 3: 14:00 ~ 18:00\n",
        "    night = datetime.datetime.strptime(\"23:59\", format)       # 4: 18:00 ~ 24:00 , 00:00 ~ 06:00\n",
        "    midnight = datetime.datetime.strptime(\"06:00\", format)\n",
        "\n",
        "    ##### Write the Fake Orders #####\n",
        "    FOrders_writer.writerow(['id', 'locate_id', 'space_id', 'size', 'hours', 'price', 'order_price', 'price_per_size', 'date', 'start', 'end', 'start_time_group', 'end_time_group', 'weekday', 'Is_holiday', 'zipcode', 'category', 'mrt'])\n",
        "    for i in range(0, len(space_id)):  #space_list\n",
        "\n",
        "      ##### 計算space的創造時間 ######\n",
        "      space_creat = datetime.datetime.strptime(creat_time[i], '%d%b%y:%H:%M:%S') #read info like '08FEB17:21:43:04'\n",
        "      space_creat_date = datetime.datetime.strptime(space_creat.strftime(\"%d/%m/%Y\") , \"%d/%m/%Y\") #空間建立時間\n",
        "      len_of_date = (end_date - space_creat_date).days + 1 #int 計算兩個日期間距\n",
        "      \n",
        "      ##### 設定房間起始日期 #####\n",
        "      date = datetime.datetime.strptime(space_creat.strftime(\"%d/%m/%Y\"), \"%d/%m/%Y\")\n",
        "      order_start = datetime.datetime.strptime(open_time[i], format) #訂單開始時間\n",
        "      order_end = datetime.datetime.strptime(close_time[i], format)  #訂單結束時間\n",
        "      if (order_start >= midnight and order_start < morning):\n",
        "        start_time_group = 1\n",
        "      elif (order_start >= morning and order_start < noon):\n",
        "        start_time_group = 2\n",
        "      elif (order_start >= noon and order_start < afternoon):\n",
        "        start_time_group = 3\n",
        "      else:\n",
        "        start_time_group = 4\n",
        "\n",
        "      if (order_end > midnight and order_end <= morning):\n",
        "        end_time_group = 1\n",
        "      elif (order_end > morning and order_end <= noon):\n",
        "        end_time_group = 2\n",
        "      elif (order_end > noon and order_end <= afternoon):\n",
        "        end_time_group = 3\n",
        "      else:\n",
        "        end_time_group = 4\n",
        "\n",
        "      ##### 開始產生訂單 #####\n",
        "      for j in range(0, len_of_date): #根據空間的建立時間，再跑到 31/12/2019\n",
        "        start = open_time[i]  #重置每日的租用時段\n",
        "        check_day = list(range(open_day[i], close_day[i]+1))\n",
        "        \n",
        "        Is_holiday = 1 if(date.isoweekday() == 6 or date.isoweekday() == 7) else 0\n",
        "\n",
        "        if (date.isoweekday() in check_day):\n",
        "          for k in range(start_time_group, end_time_group + 1):\n",
        "            if (k == 1):\n",
        "              order_start = datetime.datetime.strptime(\"09:00\", format)\n",
        "              order_end = morning\n",
        "            elif (k == 2):\n",
        "              order_start = morning\n",
        "              order_end = noon\n",
        "            elif (k == 3):\n",
        "              order_start = noon\n",
        "              order_end = afternoon\n",
        "            else:\n",
        "              order_start = afternoon\n",
        "              order_end = datetime.datetime.strptime(\"21:00\", format)\n",
        "            ##### 計算訂單租用時間 #####\n",
        "            diff = order_end - order_start \n",
        "            seconds = diff.total_seconds()\n",
        "            hours = seconds // 3600\n",
        "            minutes = (seconds % 3600) // 60\n",
        "            duration = hours + minutes/60  #訂單租用時間\n",
        "            \n",
        "            ##### Actual write #####\n",
        "            FOrders_writer.writerow([order_id, locate_id[i], space_id[i], size[i], duration, price[i], price[i]*duration, price[i]/size[i], date.date().strftime(\"%d/%m/%Y\"), order_start.strftime(\"%H:%M:%S\"), order_end.strftime(\"%H:%M:%S\"), k, k, date.isoweekday(), Is_holiday, zipcode[i], category, mrt[i]])\n",
        "            order_id += 1\n",
        "        date = date + datetime.timedelta(days=1)\n",
        "    f.close()\n"
      ],
      "execution_count": 0,
      "outputs": []
    },
    {
      "cell_type": "markdown",
      "metadata": {
        "id": "XrWPPFaZl_OG",
        "colab_type": "text"
      },
      "source": [
        "## Original Order Format"
      ]
    },
    {
      "cell_type": "code",
      "metadata": {
        "id": "VrgFp6S4l-n8",
        "colab_type": "code",
        "colab": {}
      },
      "source": [
        "id\tspace_id\tsize\thours\tprice\torder_price\tprice_per_size\tstart_time_group\tEnd_time_group\tweekday\tIs_holiday\tcountry_holiday\tzipcode\tcategory\n",
        "9615\t1\t12\t3\t300\t900\t25\t0\t1\t3\t0\t0\t100\t1\n",
        "9617\t1\t12\t4\t300\t1200\t25\t4\t4\t5\t0\t0\t100\t1\n",
        "9618\t1\t12\t4\t300\t1200\t25\t4\t4\t6\t1\t0\t100\t1"
      ],
      "execution_count": 0,
      "outputs": []
    },
    {
      "cell_type": "markdown",
      "metadata": {
        "id": "shElAqTxWv11",
        "colab_type": "text"
      },
      "source": [
        "## Code Test"
      ]
    },
    {
      "cell_type": "code",
      "metadata": {
        "id": "XlL6Gi7qoE10",
        "colab_type": "code",
        "outputId": "c13613a9-78cb-4cfe-ce3c-fe343e54f4be",
        "colab": {
          "base_uri": "https://localhost:8080/",
          "height": 69
        }
      },
      "source": [
        "###  Calculate number of days between two given dates ###\n",
        "import datetime\n",
        "\n",
        "date_format = \"%H:%M:%S\"\n",
        "order_s = datetime.datetime.strptime('18:00:00', date_format)\n",
        "order_e = datetime.datetime.strptime('00:00:00', date_format)\n",
        "delta = (order_e - order_s)\n",
        "#print(delta.strftime(\"%H:%M:%S\"))\n",
        "print(delta)\n",
        "print(abs(delta))\n",
        "print(datetime.datetime(days=1))\n",
        "#print(a < b)\n",
        "#print(order_e)\n",
        "#print(order_e.strftime(\"%H:%M:%S\"))\n",
        "#print(type(order_e.strftime(\"%H:%M:%S\")))\n",
        "# print (delta.days)\n",
        "# print (type(delta.days))\n"
      ],
      "execution_count": 0,
      "outputs": [
        {
          "output_type": "stream",
          "text": [
            "-1 day, 6:00:00\n",
            "18:00:00\n",
            "<class 'datetime.datetime'>\n"
          ],
          "name": "stdout"
        }
      ]
    },
    {
      "cell_type": "code",
      "metadata": {
        "id": "Rz3z0o4C5L3O",
        "colab_type": "code",
        "outputId": "d427a781-626b-4753-bf99-9ea5899ab12b",
        "colab": {
          "base_uri": "https://localhost:8080/",
          "height": 35
        }
      },
      "source": [
        "###  Calculate number of days between two given dates ###\n",
        "import datetime\n",
        "\n",
        "date_format = \"%d/%m/%Y\"\n",
        "a = datetime.datetime.strptime('24/08/2016', date_format)\n",
        "b = datetime.datetime.strptime('18/11/2019', date_format)\n",
        "delta = (b - a).days\n",
        "print(delta)\n",
        "\n",
        "# print (delta.days)\n",
        "# print (type(delta.days))\n"
      ],
      "execution_count": 0,
      "outputs": [
        {
          "output_type": "stream",
          "text": [
            "1181\n"
          ],
          "name": "stdout"
        }
      ]
    },
    {
      "cell_type": "code",
      "metadata": {
        "id": "6RWE5BenqYkw",
        "colab_type": "code",
        "colab": {}
      },
      "source": [
        "\n",
        "order_start = datetime.datetime.strptime(open_time[i], format)\n",
        "order_end = datetime.datetime.strptime(close_time[i], format)\n",
        "\n",
        "diff = order_start - order_end\n",
        "#diff = datetime.datetime.strptime(str(diff), '%H:%M:%S')\n",
        "\n",
        "the_time = datetime.time(6,30)\n",
        "value = the_time.hour + the_time.minute/60.0 + \\\n",
        "            the_time.second/3600.0 + the_time.microsecond/3600000000.0\n",
        "\n",
        "print(diff)\n",
        "diff = str(diff)\n",
        "print(type(diff))\n"
      ],
      "execution_count": 0,
      "outputs": []
    },
    {
      "cell_type": "code",
      "metadata": {
        "id": "0-SZApRvLPT9",
        "colab_type": "code",
        "outputId": "a8a0aebf-304b-499e-c9c6-797afdd77524",
        "colab": {
          "base_uri": "https://localhost:8080/",
          "height": 35
        }
      },
      "source": [
        "results = ['1', '2', '3']\n",
        "results = list(map(int, results))\n",
        "print(results)"
      ],
      "execution_count": 0,
      "outputs": [
        {
          "output_type": "stream",
          "text": [
            "[1, 2, 3]\n"
          ],
          "name": "stdout"
        }
      ]
    },
    {
      "cell_type": "code",
      "metadata": {
        "id": "YW4TWnktIIWJ",
        "colab_type": "code",
        "outputId": "41859a9d-1899-48a1-8893-d20cea778d94",
        "colab": {
          "base_uri": "https://localhost:8080/",
          "height": 35
        }
      },
      "source": [
        "import csv\n",
        "with open('test.csv', 'w', newline='') as csvfile:\n",
        "    testwriter = csv.writer(csvfile)\n",
        "    start = 9 \n",
        "    #start = '09:00:00'\n",
        "\n",
        "    print('%02d' % start + ':00:00')\n",
        "    testwriter.writerow(['start', 'end'])\n",
        "    for i in range(0, 4):\n",
        "      testwriter.writerow(['%02d' % start + ':00:00', '%02d' % (start+3) + ':00:00'])\n",
        "      start += 3"
      ],
      "execution_count": 0,
      "outputs": [
        {
          "output_type": "stream",
          "text": [
            "09:00:00\n"
          ],
          "name": "stdout"
        }
      ]
    },
    {
      "cell_type": "code",
      "metadata": {
        "id": "Yx6VlC5D9KP5",
        "colab_type": "code",
        "outputId": "af75143a-ac48-42d2-d838-a2d88a447404",
        "colab": {
          "base_uri": "https://localhost:8080/",
          "height": 69
        }
      },
      "source": [
        "import time\n",
        "#named_tuple = time.localtime() # get struct_time\n",
        "time_string = \"1 September, 2017\"\n",
        "result = time.strptime(time_string, \"%d %B, %Y\")\n",
        "\n",
        "test = result\n",
        "time_string = time.strftime(\"%d/%m/%Y\", test)\n",
        "print(time_string)\n",
        "print(type(test))\n",
        "print(test[2]+1)\n",
        "\n"
      ],
      "execution_count": 0,
      "outputs": [
        {
          "output_type": "stream",
          "text": [
            "01/09/2017\n",
            "<class 'time.struct_time'>\n",
            "2\n"
          ],
          "name": "stdout"
        }
      ]
    },
    {
      "cell_type": "code",
      "metadata": {
        "id": "utH1l3VpGteS",
        "colab_type": "code",
        "outputId": "a1b06556-529b-4adb-db67-8f6c423dfb1f",
        "colab": {
          "base_uri": "https://localhost:8080/",
          "height": 52
        }
      },
      "source": [
        "start = '09:00:00'\n",
        "aa = 9\n",
        "\n",
        "print('%02d' % aa)\n",
        "\n",
        "aa += 3\n",
        "\n",
        "print('%02d' % aa + ':00:00')\n"
      ],
      "execution_count": 0,
      "outputs": [
        {
          "output_type": "stream",
          "text": [
            "09\n",
            "12:00:00\n"
          ],
          "name": "stdout"
        }
      ]
    },
    {
      "cell_type": "code",
      "metadata": {
        "id": "Bu4Cy6U0uCEN",
        "colab_type": "code",
        "colab": {}
      },
      "source": [
        "space_id = [1,3,4,5,6,7,8,9,10,11,12,13,14,15,16,17,18,19,20,21,22,23,24,25,31,41,51,62,63,64,65,66,67,68,69,70,71,72,73,74,75,76,77,78,79,80,81,82,83,84,85,86,87,88,89,90,91,92,93,94,95,96,97,98,99,100,101,102,103,104,105,106,107,108,109,110,111,112,113,114,115,116,117,118,119,121,122,123,124,125,126,127,128,129,130,131,132,133,134,135,136,137,138,139,140,141,142,143,144,145,146,147,148,149,150,151,152,153,154,155,156,157,158,159,160,161,162,163,164,165,166,167,168,169,170,171,172,173,174,175,176,177,178,179,180,181,182,183,184,185,186,187]\n",
        "\n",
        "p =[1, 4, 8, 2]\n",
        "h = 3\n",
        "o_p = h * p\n",
        "print(type(o_p))\n",
        "\n",
        "\n",
        "for i in space_id:\n",
        "  print(i, type(i))\n",
        "\n"
      ],
      "execution_count": 0,
      "outputs": []
    }
  ]
}